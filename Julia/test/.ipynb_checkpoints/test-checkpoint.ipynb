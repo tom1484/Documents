{
 "cells": [
  {
   "cell_type": "code",
   "execution_count": 1,
   "id": "b1a0821c",
   "metadata": {},
   "outputs": [
    {
     "data": {
      "text/plain": [
       "\"4567\""
      ]
     },
     "execution_count": 1,
     "metadata": {},
     "output_type": "execute_result"
    }
   ],
   "source": [
    "A = \"1234\"\n",
    "B = \"4567\""
   ]
  },
  {
   "cell_type": "code",
   "execution_count": 4,
   "id": "9cdd7cbf",
   "metadata": {},
   "outputs": [
    {
     "data": {
      "text/plain": [
       "\"12344567\""
      ]
     },
     "execution_count": 4,
     "metadata": {},
     "output_type": "execute_result"
    }
   ],
   "source": [
    "A * B"
   ]
  },
  {
   "cell_type": "code",
   "execution_count": 5,
   "id": "c57a2c7d",
   "metadata": {},
   "outputs": [
    {
     "data": {
      "text/plain": [
       "1×5 Array{Int64,2}:\n",
       " 1  2  3  4  5"
      ]
     },
     "execution_count": 5,
     "metadata": {},
     "output_type": "execute_result"
    }
   ],
   "source": [
    "[1 2 3 4 5]"
   ]
  },
  {
   "cell_type": "code",
   "execution_count": 7,
   "id": "e140ae99",
   "metadata": {},
   "outputs": [
    {
     "data": {
      "text/plain": [
       "1×2 Array{String,2}:\n",
       " \"123\"  \"345\""
      ]
     },
     "execution_count": 7,
     "metadata": {},
     "output_type": "execute_result"
    }
   ],
   "source": [
    "String[\"123\" \"345\"]"
   ]
  },
  {
   "cell_type": "code",
   "execution_count": 34,
   "id": "cb0ffcd1",
   "metadata": {},
   "outputs": [
    {
     "data": {
      "text/plain": [
       "2×2 Array{Float64,2}:\n",
       " 0.790505  0.448924\n",
       " 0.950472  0.845413"
      ]
     },
     "execution_count": 34,
     "metadata": {},
     "output_type": "execute_result"
    }
   ],
   "source": [
    "A = rand(2, 2, 2, 2)\n",
    "print(A)\n",
    "print(A[1, 2, 1:2, 1:2])"
   ]
  },
  {
   "cell_type": "code",
   "execution_count": 23,
   "id": "cfd88e48",
   "metadata": {},
   "outputs": [
    {
     "data": {
      "text/plain": [
       "3×2 Array{Int64,2}:\n",
       " 1  2\n",
       " 3  4\n",
       " 5  6"
      ]
     },
     "execution_count": 23,
     "metadata": {},
     "output_type": "execute_result"
    }
   ],
   "source": [
    "A = [1 2; 3 4; 5 6]"
   ]
  },
  {
   "cell_type": "code",
   "execution_count": 30,
   "id": "e8e6c756",
   "metadata": {},
   "outputs": [
    {
     "data": {
      "text/plain": [
       "2×2 Array{Int64,2}:\n",
       " 1  2\n",
       " 3  4"
      ]
     },
     "execution_count": 30,
     "metadata": {},
     "output_type": "execute_result"
    }
   ],
   "source": [
    "A[1:2, 1:2]"
   ]
  },
  {
   "cell_type": "code",
   "execution_count": null,
   "id": "a063a99c",
   "metadata": {},
   "outputs": [],
   "source": []
  }
 ],
 "metadata": {
  "kernelspec": {
   "display_name": "Julia 1.4.1",
   "language": "julia",
   "name": "julia-1.4"
  },
  "language_info": {
   "file_extension": ".jl",
   "mimetype": "application/julia",
   "name": "julia",
   "version": "1.4.1"
  }
 },
 "nbformat": 4,
 "nbformat_minor": 5
}
