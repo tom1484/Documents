{
 "cells": [
  {
   "cell_type": "code",
   "execution_count": 36,
   "id": "3174a667",
   "metadata": {},
   "outputs": [
    {
     "data": {
      "text/plain": [
       "3×4 Array{Float64,2}:\n",
       " 0.742495  0.723556  0.0660252  0.654587\n",
       " 0.960523  0.904651  0.411452   0.768365\n",
       " 0.636666  0.771626  0.293152   0.0436286"
      ]
     },
     "execution_count": 36,
     "metadata": {},
     "output_type": "execute_result"
    }
   ],
   "source": [
    "A = rand(3, 4)"
   ]
  },
  {
   "cell_type": "code",
   "execution_count": 37,
   "id": "a1e9dc37",
   "metadata": {},
   "outputs": [
    {
     "data": {
      "text/plain": [
       "0"
      ]
     },
     "execution_count": 37,
     "metadata": {},
     "output_type": "execute_result"
    }
   ],
   "source": [
    "A[1, 1] = 0"
   ]
  },
  {
   "cell_type": "code",
   "execution_count": 41,
   "id": "2f5f24b7",
   "metadata": {},
   "outputs": [
    {
     "data": {
      "text/plain": [
       "Dict{Symbol,Int64} with 1 entry:\n",
       "  :L => 1"
      ]
     },
     "execution_count": 41,
     "metadata": {},
     "output_type": "execute_result"
    }
   ],
   "source": [
    "A = Dict(:L => 1)"
   ]
  },
  {
   "cell_type": "code",
   "execution_count": 42,
   "id": "0667505a",
   "metadata": {},
   "outputs": [
    {
     "data": {
      "text/plain": [
       "1"
      ]
     },
     "execution_count": 42,
     "metadata": {},
     "output_type": "execute_result"
    }
   ],
   "source": [
    "A[:L]"
   ]
  },
  {
   "cell_type": "code",
   "execution_count": 47,
   "id": "1af284fa",
   "metadata": {},
   "outputs": [],
   "source": [
    "using Dates"
   ]
  },
  {
   "cell_type": "code",
   "execution_count": 69,
   "id": "ffbb146e",
   "metadata": {},
   "outputs": [
    {
     "data": {
      "text/plain": [
       "1 millisecond"
      ]
     },
     "execution_count": 69,
     "metadata": {},
     "output_type": "execute_result"
    }
   ],
   "source": [
    "(now() + Microsecond(1000)) - now()"
   ]
  },
  {
   "cell_type": "code",
   "execution_count": 71,
   "id": "8722b73d",
   "metadata": {},
   "outputs": [
    {
     "data": {
      "text/plain": [
       "Dict{Symbol,Int64} with 2 entries:\n",
       "  :K2 => 13\n",
       "  :K1 => 12"
      ]
     },
     "execution_count": 71,
     "metadata": {},
     "output_type": "execute_result"
    }
   ],
   "source": [
    "D = Dict(:K1 => 12, :K2 => 13)"
   ]
  },
  {
   "cell_type": "code",
   "execution_count": 84,
   "id": "ecaf671b",
   "metadata": {},
   "outputs": [
    {
     "name": "stdout",
     "output_type": "stream",
     "text": [
      "d = :K2 => 13\n",
      "d = :K1 => 12\n"
     ]
    }
   ],
   "source": [
    "for d in D\n",
    "    @show d\n",
    "end"
   ]
  },
  {
   "cell_type": "code",
   "execution_count": 81,
   "id": "97e4e241",
   "metadata": {},
   "outputs": [
    {
     "data": {
      "text/plain": [
       ":S => 12"
      ]
     },
     "execution_count": 81,
     "metadata": {},
     "output_type": "execute_result"
    }
   ],
   "source": [
    "Pair(:S, 12)"
   ]
  },
  {
   "cell_type": "code",
   "execution_count": 83,
   "id": "3dbcb62b",
   "metadata": {},
   "outputs": [
    {
     "data": {
      "text/plain": [
       "4-element Array{Int64,1}:\n",
       " 1\n",
       " 3\n",
       " 5\n",
       " 7"
      ]
     },
     "execution_count": 83,
     "metadata": {},
     "output_type": "execute_result"
    }
   ],
   "source": [
    "collect(1:2:7)"
   ]
  },
  {
   "cell_type": "code",
   "execution_count": 93,
   "id": "a15de0cc",
   "metadata": {},
   "outputs": [
    {
     "name": "stdout",
     "output_type": "stream",
     "text": [
      "(x, y) = (1, 2)\n",
      "(x, y) = (3, 4)\n"
     ]
    }
   ],
   "source": [
    "for (x, y) in [[1 2], [3 4]]\n",
    "    @show x, y\n",
    "end"
   ]
  },
  {
   "cell_type": "code",
   "execution_count": null,
   "id": "e72db219",
   "metadata": {},
   "outputs": [],
   "source": []
  }
 ],
 "metadata": {
  "kernelspec": {
   "display_name": "Julia 1.4.1",
   "language": "julia",
   "name": "julia-1.4"
  },
  "language_info": {
   "file_extension": ".jl",
   "mimetype": "application/julia",
   "name": "julia",
   "version": "1.4.1"
  }
 },
 "nbformat": 4,
 "nbformat_minor": 5
}
