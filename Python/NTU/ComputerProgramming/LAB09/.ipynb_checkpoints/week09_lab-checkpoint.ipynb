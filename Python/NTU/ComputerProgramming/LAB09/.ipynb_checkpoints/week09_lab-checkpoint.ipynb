{
 "cells": [
  {
   "cell_type": "markdown",
   "metadata": {},
   "source": [
    "# Week09 Lab"
   ]
  },
  {
   "cell_type": "markdown",
   "metadata": {},
   "source": [
    "# Review\n",
    "In class, we have learnt about:\n",
    "* Class declaration\n",
    "* Class attributes and methods\n",
    "* Class constructor and object initialization\n",
    "* Functions that take user-defined objects as argument or return one such object\n",
    "\n",
    "We will do more exercises during this lab, however, we will go through tutorial and lecture exercises first:"
   ]
  },
  {
   "cell_type": "markdown",
   "metadata": {},
   "source": [
    "# Questions"
   ]
  },
  {
   "cell_type": "markdown",
   "metadata": {
    "colab_type": "text",
    "id": "tW8rSJErLPFG"
   },
   "source": [
    "## <span style=\"color:red\">Question1</span> Triangle Class"
   ]
  },
  {
   "cell_type": "markdown",
   "metadata": {
    "colab_type": "text",
    "id": "DFZUVzalLPFI"
   },
   "source": [
    "Declare a class:\n",
    "\n",
    "    class Triangle:\n",
    "\n",
    "that has 3 properties: `p1`, `p2`, `p3`, which are 2-tuples of float representing the 3 vertices of the triangle.\n",
    "\n",
    "Design a constructor for the `Triangle` class so that it can be initialized in following ways:\n",
    "\n",
    "* For triangle1 = Triangle(), triangle1.p1 is (0.0, 0.0), triangle1.p2 is (0.0, 0.0), triangle1.p3 is (0.0, 0.0).\n",
    "* For triangle2 = Triangle((1.0,2.0),(3.0,4.0),(5.0,0.0)), triangle2.p1 is (1.0,2.0), triangle1.p2 is (3.0,4.0), triangle1.p3 is (5.0,0.0).\n",
    "* For triangle3 = Triangle((0.0,0.0),(1.0,1.0),(2.0,2.0)), triangle3.p1 is (0.0, 0.0), triangle3.p2 is (0.0, 0.0), triangle3.p3 is (0.0, 0.0). (Because the area of three inputs is 0)\n",
    "\n",
    "Note that:\n",
    "* If area of the triangle with the three input vertices is 0, set all three vertices to (0.0, 0.0).\n",
    "* If there is no input, set all three vertices to (0.0, 0.0).\n"
   ]
  },
  {
   "cell_type": "code",
   "execution_count": 20,
   "metadata": {},
   "outputs": [
    {
     "name": "stdout",
     "output_type": "stream",
     "text": [
      "(0.0, 0.0) (0.0, 0.0) (0.0, 0.0)\n",
      "(1.0, 2.0) (3.0, 4.0) (5.0, 0.0)\n",
      "(0.0, 0.0) (0.0, 0.0) (0.0, 0.0)\n"
     ]
    }
   ],
   "source": [
    "# Question1\n",
    "class Triangle:\n",
    "    def __init__(self, *args):\n",
    "        if len(args) == 3:\n",
    "            self.p1 = args[0]\n",
    "            self.p2 = args[1]\n",
    "            self.p3 = args[2]\n",
    "            \n",
    "            v1 = (self.p2[0] - self.p1[0], self.p2[1] - self.p1[1])\n",
    "            v2 = (self.p3[0] - self.p1[0], self.p3[1] - self.p1[1])\n",
    "            cross = v2[1] * v1[0] - v2[0] * v1[1]\n",
    "        \n",
    "        if len(args) == 0 or cross == 0.0:\n",
    "            self.p1 = (0.0, 0.0)\n",
    "            self.p2 = (0.0, 0.0)\n",
    "            self.p3 = (0.0, 0.0)\n",
    "\n",
    "triangle1 = Triangle()\n",
    "triangle2 = Triangle((1.0,2.0),(3.0,4.0),(5.0,0.0))\n",
    "triangle3 = Triangle((0.0,0.0),(1.0,1.0),(2.0,2.0))\n",
    "\n",
    "print(triangle1.p1, triangle1.p2, triangle1.p3)\n",
    "print(triangle2.p1, triangle2.p2, triangle2.p3)\n",
    "print(triangle3.p1, triangle3.p2, triangle3.p3)"
   ]
  },
  {
   "cell_type": "markdown",
   "metadata": {
    "colab_type": "text",
    "id": "QNcnyW8ZLPFU"
   },
   "source": [
    "## <span style=\"color:red\">Question2</span> Deal with Triangle Class "
   ]
  },
  {
   "cell_type": "markdown",
   "metadata": {
    "colab_type": "text",
    "id": "VhiPBPzhLPFW"
   },
   "source": [
    "Write a function:\n",
    "\n",
    "    def move(T,X)\n",
    "\n",
    "That, given a `Triangle` object T and a 2-tuple X representing values of movement on the 2D coordination system, returns another `Triangle` object depicting the new triangle after movement.\n",
    "\n",
    "For example:\n",
    "* For triangle1 = Triangle((1.0,2.0),(3.0,4.0),(5.0,0.0)).\n",
    "* move(triangle1,(1.0,0.0)) should return a Triangle object that with p1 = (2.0, 2.0), p2 = (4.0, 4.0), p3 = (6.0, 0.0).\n",
    "<br>\n",
    "* For triangle2 = Triangle((1.0,2.0),(3.0,4.0),(5.0,0.0)).\n",
    "* move(triangle2,(0.0,1.0)) should return a Triangle object that with p1 = (1.0, 3.0), p2 = (3.0, 5.0), p3 = (5.0, 1.0)\n",
    "\n",
    "Note that:\n",
    "* You should use code of Question1 to implement the `Triangle` class.\n"
   ]
  },
  {
   "cell_type": "code",
   "execution_count": 30,
   "metadata": {},
   "outputs": [
    {
     "name": "stdout",
     "output_type": "stream",
     "text": [
      "(2.0, 2.0) (4.0, 4.0) (6.0, 0.0)\n",
      "(1.0, 3.0) (3.0, 5.0) (5.0, 1.0)\n"
     ]
    }
   ],
   "source": [
    "# Question2\n",
    "def move(T, X):\n",
    "    return Triangle((T.p1[0] + X[0], T.p1[1] + X[1]), \n",
    "                    (T.p2[0] + X[0], T.p2[1] + X[1]), \n",
    "                    (T.p3[0] + X[0], T.p3[1] + X[1]))\n",
    "\n",
    "triangle1 = Triangle((1.0,2.0),(3.0,4.0),(5.0,0.0))\n",
    "triangle1 = move(triangle1, (1.0, 0.0))\n",
    "triangle2 = Triangle((1.0,2.0),(3.0,4.0),(5.0,0.0))\n",
    "triangle2 = move(triangle2, (0.0, 1.0))\n",
    "\n",
    "print(triangle1.p1, triangle1.p2, triangle1.p3)\n",
    "print(triangle2.p1, triangle2.p2, triangle2.p3)"
   ]
  },
  {
   "cell_type": "markdown",
   "metadata": {
    "colab_type": "text",
    "id": "pvvigCQFSyZV"
   },
   "source": [
    "## <span style=\"color:red\">Question3</span> MapCartesianToSpiral"
   ]
  },
  {
   "cell_type": "markdown",
   "metadata": {
    "colab_type": "text",
    "id": "jjkVHzVUS3nM"
   },
   "source": [
    "A 2D Cartesian plane is given. A *lattice point* in this plane is a point whose coordinates are integers. All lattice points of the plane are arranged into a spiral as follows:\n",
    "\n",
    "* point (0, 0) is point number 0; \n",
    "* point (0, 1) is point number 1; \n",
    "* point (1, 1) is point number 2; \n",
    "* thereafter the points are (1, 0), (1, −1), (0, −1), (−1, −1), (−1, 0), (−1, 1), (−1, 2), (0, 2), (1, 2), (2, 2), (2, 1) etc. \n",
    "\n",
    "<img width=\"30%\" src=\"figures/spiral.png\"/>\n",
    "\n",
    "\n",
    "Note that every lattice point is included in the spiral, so it can be described either by its Cartesian coordinates or by its *spiral coordinate*, i.e. its number on the spiral.\n",
    "\n",
    "\n",
    "Write a function: \n",
    "\n",
    "    def spiral(X, Y) \n",
    "\n",
    "that, given two integers X and Y, returns the spiral coordinate of the lattice point (X, Y).\n",
    "\n",
    "For example:\n",
    "* Given X = 1 and Y = 1, the function should return 2, because point (1, 1) has spiral coordinate 2. \n",
    "* Given X = −1 and Y = 2, the function should return 9. "
   ]
  },
  {
   "cell_type": "code",
   "execution_count": 124,
   "metadata": {},
   "outputs": [
    {
     "name": "stdout",
     "output_type": "stream",
     "text": [
      "48\n"
     ]
    }
   ],
   "source": [
    "# Question3\n",
    "def spiral(X, Y):\n",
    "    if X == 0 and Y == 0:\n",
    "        return 0\n",
    "    elif X > 0 and Y >= 0:\n",
    "        r = max(X, Y)\n",
    "        N = r + X\n",
    "        if X > Y:\n",
    "            N += r - Y\n",
    "    elif X >= 0 and Y < 0:\n",
    "        Y = abs(Y)\n",
    "        r = max(X, Y)\n",
    "        N = 3 * r + Y\n",
    "        if Y > X:\n",
    "            N += r - X\n",
    "    elif X < 0 and Y <= 0:\n",
    "        X, Y = abs(X), abs(Y)\n",
    "        r = max(X, Y)\n",
    "        N = 5 * r + X\n",
    "        if X > Y:\n",
    "            N += r - Y\n",
    "    elif X <= 0 and Y > 0:\n",
    "        X = abs(X)\n",
    "        r = max(X, Y - 1)\n",
    "        N = Y - r + r - X\n",
    "        r += 1\n",
    "    \n",
    "    N += (2 * r - 1) * (2 * r - 1) - 1\n",
    "    return N\n",
    "\n",
    "print(spiral(-3, 3))"
   ]
  },
  {
   "cell_type": "markdown",
   "metadata": {
    "colab_type": "text",
    "id": "DZRl7jF8eljW"
   },
   "source": [
    "## <span style=\"color:red\">Question4</span> DiceRotations"
   ]
  },
  {
   "cell_type": "markdown",
   "metadata": {
    "colab_type": "text",
    "id": "zNAk1dPqe6XN"
   },
   "source": [
    "A six-sided die is a small cube with a different number of pips on each face (side), ranging from 1 to 6. On any two opposite sides of the cube, the number of pips adds up to 7; that is, there are three pairs of opposite sides: 1 and 6, 2 and 5, and 3 and 4.\n",
    "\n",
    "There are N dice lying on a table, each showing the pips on its top face. In one move, you can take one die and rotate it to an adjacent face. For example, you can rotate a die that shows 1 so that it shows 2, 3, 4 or 5. However, it cannot show 6 in a single move, because the faces with one pip and six pips visible are on opposite sides rather than adjacent.\n",
    "\n",
    "You want to show the same number of pips on the top faces of all N dice. Given that each of the dice can be moved multiple times, count the minimum number of moves needed to get equal faces.\n",
    "\n",
    "Write a function: \n",
    "\n",
    "    def diceRotations(A) \n",
    "\n",
    "that, given an array A consisting of N integers describing the number of pips (from 1 to 6) shown on each die's top face, returns the minimum number of moves necessary for each die to show the same number of pips.\n",
    "\n",
    "For example, given: \n",
    "* A = [1, 2, 3], the function should return 2, as you can pick the first two dice and rotate each of them in one move so that they all show three pips on the top face. Notice that you can also pick any other pair of dice in this case. \n",
    "* A = [1, 1, 6], the function should also return 2. The only optimal answer is to rotate the last die so that it shows one pip. It is necessary to use two rotations to achieve this. \n",
    "* A = [1, 6, 2, 3], the function should return 3. For instance, you can make all dice show 2: just rotate each die which is not showing 2 (and notice that for each die you can do this in one move). \n",
    "\n",
    "Assume that: \n",
    "* each element of array A is an integer within the range [1..6]. "
   ]
  },
  {
   "cell_type": "code",
   "execution_count": 130,
   "metadata": {},
   "outputs": [
    {
     "name": "stdout",
     "output_type": "stream",
     "text": [
      "3\n"
     ]
    }
   ],
   "source": [
    "# Question4\n",
    "def diceRotations(A):\n",
    "    ans = 2 * len(A)\n",
    "    for i in range(1, 7):\n",
    "        t = 0\n",
    "        for j in A:\n",
    "            if j != i:\n",
    "                t += 1\n",
    "                if j + i == 7:\n",
    "                    t += 1\n",
    "        ans = min(ans, t)\n",
    "    return ans\n",
    "\n",
    "print(diceRotations([1, 6, 2, 3]))"
   ]
  },
  {
   "cell_type": "markdown",
   "metadata": {},
   "source": [
    "<img src=https://miro.medium.com/max/500/1*-dmHYcAiphpWe6m0pcd-AA.png width=300px>"
   ]
  },
  {
   "cell_type": "code",
   "execution_count": null,
   "metadata": {},
   "outputs": [],
   "source": []
  }
 ],
 "metadata": {
  "kernelspec": {
   "display_name": "Python 3 (ipykernel)",
   "language": "python",
   "name": "python3"
  },
  "language_info": {
   "codemirror_mode": {
    "name": "ipython",
    "version": 3
   },
   "file_extension": ".py",
   "mimetype": "text/x-python",
   "name": "python",
   "nbconvert_exporter": "python",
   "pygments_lexer": "ipython3",
   "version": "3.8.10"
  },
  "toc": {
   "base_numbering": 1,
   "nav_menu": {},
   "number_sections": true,
   "sideBar": true,
   "skip_h1_title": false,
   "title_cell": "Table of Contents",
   "title_sidebar": "Contents",
   "toc_cell": false,
   "toc_position": {},
   "toc_section_display": true,
   "toc_window_display": false
  },
  "varInspector": {
   "cols": {
    "lenName": 16,
    "lenType": 16,
    "lenVar": 40
   },
   "kernels_config": {
    "python": {
     "delete_cmd_postfix": "",
     "delete_cmd_prefix": "del ",
     "library": "var_list.py",
     "varRefreshCmd": "print(var_dic_list())"
    },
    "r": {
     "delete_cmd_postfix": ") ",
     "delete_cmd_prefix": "rm(",
     "library": "var_list.r",
     "varRefreshCmd": "cat(var_dic_list()) "
    }
   },
   "types_to_exclude": [
    "module",
    "function",
    "builtin_function_or_method",
    "instance",
    "_Feature"
   ],
   "window_display": false
  }
 },
 "nbformat": 4,
 "nbformat_minor": 4
}
