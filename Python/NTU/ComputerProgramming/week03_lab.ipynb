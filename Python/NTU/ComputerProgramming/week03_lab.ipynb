{
 "cells": [
  {
   "cell_type": "markdown",
   "metadata": {
    "ExecuteTime": {
     "end_time": "2020-08-25T01:56:32.996741Z",
     "start_time": "2020-08-25T01:56:32.993652Z"
    }
   },
   "source": [
    "# Week3 Lab\n",
    "There are no concept of ***main()*** in python.\n",
    "<img src=https://i.imgur.com/ZuAJxhx.jpg width=300px>"
   ]
  },
  {
   "cell_type": "markdown",
   "metadata": {},
   "source": [
    "# Review\n",
    "In class, we have learned how to:\n",
    "* Do string fomat and I/O ( ***print()***, ***input()*** )\n",
    "* Do loops and lists ( ***for***, ***while***, ***[]***)\n",
    "* Creat basic functions ( ***def*** ....)\n",
    "\n",
    "\n",
    "We will do more exercises during this lab, but lets do some preview first:"
   ]
  },
  {
   "cell_type": "markdown",
   "metadata": {},
   "source": [
    "# Questions"
   ]
  },
  {
   "cell_type": "markdown",
   "metadata": {},
   "source": [
    "### <span style=\"color:red\">Question1</span>  \n",
    "Please use `for` and `while` loop to generate a list \\[0, 1, 4, 9, 16, 25, 36, 49, 64\\] respectively. Then print it out."
   ]
  },
  {
   "cell_type": "code",
   "execution_count": 72,
   "metadata": {
    "ExecuteTime": {
     "end_time": "2020-09-26T14:26:48.001927Z",
     "start_time": "2020-09-26T14:26:48.000133Z"
    }
   },
   "outputs": [
    {
     "name": "stdout",
     "output_type": "stream",
     "text": [
      "[0, 1, 4, 9, 16, 25, 36, 49, 64]\n"
     ]
    }
   ],
   "source": [
    "# Question1 (Use For)\n",
    "print([i ** 2 for i in range(9)])"
   ]
  },
  {
   "cell_type": "code",
   "execution_count": 73,
   "metadata": {},
   "outputs": [
    {
     "name": "stdout",
     "output_type": "stream",
     "text": [
      "[0, 1, 4, 9, 16, 25, 36, 49, 64]\n"
     ]
    }
   ],
   "source": [
    "# Question1 (Use While)\n",
    "arr = []\n",
    "idx = 0\n",
    "while idx <= 8:\n",
    "    arr.append(idx ** 2)\n",
    "    idx += 1\n",
    "print(arr)"
   ]
  },
  {
   "cell_type": "markdown",
   "metadata": {},
   "source": [
    "### <span style=\"color:red\">Question2</span>  \n",
    "Finishing following **List** practice."
   ]
  },
  {
   "cell_type": "code",
   "execution_count": 74,
   "metadata": {
    "ExecuteTime": {
     "end_time": "2020-09-26T15:42:54.268136Z",
     "start_time": "2020-09-26T15:42:54.251567Z"
    }
   },
   "outputs": [
    {
     "name": "stdout",
     "output_type": "stream",
     "text": [
      "20\n",
      "3333\n",
      "5\n",
      "[3, 5, 7]\n",
      "['c', 'e', 'g']\n",
      "['i', 'have', 'a', 'pen', 'i', 'have', 'a', 'apple']\n",
      "['i', 'have', 'time', 'to', 'finish', 'homework']\n"
     ]
    }
   ],
   "source": [
    "# Question2\n",
    "\n",
    "# print out length of list \"one\"\n",
    "one = [0, 0, 0, 0, 0, 0, 0, 0, 0, 0, 0, 1, 2, 3, 4, 5, 6, 7, 8, 9]\n",
    "print(len(one))\n",
    "\n",
    "# print out max element of list \"two\"\n",
    "two = [29,33,20,100,3333,2,55,31,3,24,99,3,102,232]\n",
    "print(max(two))\n",
    "\n",
    "# print out 3rd element in \"three\"\n",
    "three = [2, 3, 5, 7, 11, 13]\n",
    "print(three[2])\n",
    "\n",
    "# use \"four\" to print out [3, 5, 7]\n",
    "four = [2, 3, 5, 7, 11, 13]\n",
    "print(four[1:4])\n",
    "\n",
    "# use \"five\" to print out ['c', 'e', 'g']\n",
    "five = ['a', 'b', 'c', 'd', 'e', 'f', 'g', 'h', 'i']\n",
    "print(five[2:7:2])\n",
    "\n",
    "# concate \"six1\" and \"six2\"\n",
    "six1 = [\"i\", \"have\", \"a\", \"pen\"]\n",
    "six2 = [\"i\", \"have\", \"a\", \"apple\"]\n",
    "print(six1 + six2)\n",
    "\n",
    "# remove \"no\" in \"seven\"\n",
    "seven = [\"i\", \"have\", \"no\", \"time\", \"to\", \"finish\", \"homework\"]\n",
    "seven.remove(\"no\")\n",
    "print(seven)"
   ]
  },
  {
   "cell_type": "markdown",
   "metadata": {},
   "source": [
    "### <span style=\"color:red\">Question3</span>  \n",
    "Please implement a piece code with ***for*** loop which is able to input 5 integer and output sum of them.  \n",
    "Sample Input:  \n",
    "<textarea readonly rows=\"6\" cols=\"40\">\n",
    "29\n",
    "31\n",
    "22\n",
    "200\n",
    "997\n",
    "</textarea>  \n",
    "Sample Ouput:  \n",
    "<textarea readonly rows=\"2\" cols=\"40\">1279</textarea>"
   ]
  },
  {
   "cell_type": "code",
   "execution_count": 76,
   "metadata": {},
   "outputs": [
    {
     "name": "stdout",
     "output_type": "stream",
     "text": [
      "29\n",
      "31\n",
      "22\n",
      "200\n",
      "997\n",
      "1279\n"
     ]
    }
   ],
   "source": [
    "# Question3\n",
    "s = 0\n",
    "for i in range(5):\n",
    "    s += int(input())\n",
    "print(s)"
   ]
  },
  {
   "cell_type": "markdown",
   "metadata": {},
   "source": [
    "### <span style=\"color:red\">Question4</span>  \n",
    "Please implement a piece of code with ***for*** loop which is able to input a string and output string with reverse.  \n",
    "<span style=\"color:red\">You must use ***for*** loop</span>  \n",
    "Example Input:  \n",
    "<textarea readonly rows=\"2\" cols=\"40\">\n",
    "python is funny\n",
    "</textarea>  \n",
    "Example Ouput:  \n",
    "<textarea readonly rows=\"2\" cols=\"40\">\n",
    "ynnuf si nohtyp\n",
    "</textarea>"
   ]
  },
  {
   "cell_type": "code",
   "execution_count": 78,
   "metadata": {},
   "outputs": [
    {
     "name": "stdout",
     "output_type": "stream",
     "text": [
      "python is funny\n",
      "ynnuf si nohtyp"
     ]
    }
   ],
   "source": [
    "# Question4\n",
    "s = input()\n",
    "for i in range(1, len(s) + 1):\n",
    "    print(s[len(s) - i], end=\"\")"
   ]
  },
  {
   "cell_type": "markdown",
   "metadata": {},
   "source": [
    "### <span style=\"color:red\">Question5</span>  \n",
    "Please implement a function called ***Factor()*** which find out all the factor of input integer $N$.  \n",
    "Then, print out all the fators with list in assending order.  \n",
    "Example Input:  \n",
    "<textarea readonly rows=\"2\" cols=\"40\">\n",
    "45\n",
    "</textarea>  \n",
    "Example Ouput:  \n",
    "<textarea readonly rows=\"2\" cols=\"40\">\n",
    "[1,3,5,9,15,45]\n",
    "</textarea>"
   ]
  },
  {
   "cell_type": "code",
   "execution_count": 80,
   "metadata": {
    "ExecuteTime": {
     "end_time": "2020-08-25T05:38:04.386864Z",
     "start_time": "2020-08-25T05:38:04.378995Z"
    }
   },
   "outputs": [],
   "source": [
    "# Question5\n",
    "def Factor(N):\n",
    "    fac = []\n",
    "    for i in range(1, N + 1):\n",
    "        if N % i == 0:\n",
    "            fac.append(i)\n",
    "    print(fac)"
   ]
  },
  {
   "cell_type": "code",
   "execution_count": 81,
   "metadata": {},
   "outputs": [
    {
     "name": "stdout",
     "output_type": "stream",
     "text": [
      "[1, 3, 13, 39, 169, 507]\n"
     ]
    }
   ],
   "source": [
    "Factor(507)"
   ]
  },
  {
   "cell_type": "markdown",
   "metadata": {},
   "source": [
    "### <span style=\"color:red\">Question6</span>  \n",
    "Implement a function called ***ntuee()***.  \n",
    "***ntuee()*** have two parameters integer $w$ and a integer $h$ where $w>2$,$h>2$:  \n",
    "If ***ntuee(4, 4)*** ($w=4$, $h=4$), print out following matrix:  \n",
    "\n",
    "```\n",
    "NTTU\n",
    "E  E\n",
    "E  E\n",
    "UTTN \n",
    "```\n",
    "If ***ntuee(7, 5)*** ($w=7$, $h=5$), print out following matrix:  \n",
    "\n",
    "```\n",
    "NTTTTTU\n",
    "E     E\n",
    "E     E\n",
    "E     E\n",
    "UTTTTTN\n",
    "```\n",
    "\n",
    "TA may change varilabes $w$ and $h$'s values."
   ]
  },
  {
   "cell_type": "code",
   "execution_count": 82,
   "metadata": {},
   "outputs": [],
   "source": [
    "# Question6\n",
    "def ntuee(w,h):\n",
    "    print('N' + 'T' * (w - 2) + 'U')\n",
    "    print(('E' + ' ' * (w - 2) + 'E\\n') * (h - 2), end='')\n",
    "    print('U' + 'T' * (w - 2) + 'N')"
   ]
  },
  {
   "cell_type": "code",
   "execution_count": 83,
   "metadata": {},
   "outputs": [
    {
     "name": "stdout",
     "output_type": "stream",
     "text": [
      "NTTTTTTTTU\n",
      "E        E\n",
      "E        E\n",
      "E        E\n",
      "E        E\n",
      "E        E\n",
      "UTTTTTTTTN\n"
     ]
    }
   ],
   "source": [
    "ntuee(10,7)"
   ]
  },
  {
   "cell_type": "markdown",
   "metadata": {},
   "source": [
    "### <span style=\"color:red\">Question7</span>  \n",
    "There are three little question in this part.  \n",
    "The factorial of a nonnegative integer $n$ is written $n!$ and is defined as follows:  \n",
    "$$n!=n\\cdot(n-1)\\cdot(n-2)\\cdot(n-3)\\cdot...\\cdot1\\space\\space\\space\\space\\forall n > 1$$\n",
    "and  \n",
    "$$n!=1\\space\\space(for\\space n=0\\space or\\space n=1)$$"
   ]
  },
  {
   "cell_type": "markdown",
   "metadata": {},
   "source": [
    "#### Part a\n",
    "Write a program that reads a nonnegative integer and computes and prints its fractorial.  \n",
    "Example Input:  \n",
    "<textarea readonly rows=\"2\" cols=\"40\">\n",
    "5\n",
    "</textarea>  \n",
    "Example Ouput:  \n",
    "<textarea readonly rows=\"2\" cols=\"40\">\n",
    "120\n",
    "</textarea>"
   ]
  },
  {
   "cell_type": "code",
   "execution_count": 84,
   "metadata": {},
   "outputs": [
    {
     "name": "stdout",
     "output_type": "stream",
     "text": [
      "5\n",
      "120\n"
     ]
    }
   ],
   "source": [
    "# part a\n",
    "n = int(input())\n",
    "f = 1\n",
    "for i in range(1, n + 1):\n",
    "    if i > 0:\n",
    "        f *= i\n",
    "if n > 0:\n",
    "    print(f)\n",
    "else:\n",
    "    print(1)"
   ]
  },
  {
   "cell_type": "markdown",
   "metadata": {},
   "source": [
    "#### Part b\n",
    "Write a program that estimates the value od the mathematical constant $e$ by using the formula:\n",
    "$$e=1+\\frac{1}{1!}+\\frac{1}{2!}+\\frac{1}{3!}+...$$\n",
    "Prompt the user for the desired accuracy of $e$ (i.e. the number of terms in the summation)  \n",
    "Your program have to reads a nonnegative integer which is the number of terms in the summation:  \n",
    "Example Input:  \n",
    "<textarea readonly rows=\"2\" cols=\"40\">\n",
    "5\n",
    "</textarea>  \n",
    "Example Ouput:  \n",
    "<textarea readonly rows=\"2\" cols=\"40\">\n",
    "2.708333333333333\n",
    "</textarea>\n",
    "\n",
    "## Error in ?% input should be?\n"
   ]
  },
  {
   "cell_type": "code",
   "execution_count": 85,
   "metadata": {
    "ExecuteTime": {
     "end_time": "2021-10-03T13:12:53.931562Z",
     "start_time": "2021-10-03T13:12:53.920025Z"
    }
   },
   "outputs": [
    {
     "data": {
      "text/plain": [
       "<function math.exp(x, /)>"
      ]
     },
     "execution_count": 85,
     "metadata": {},
     "output_type": "execute_result"
    }
   ],
   "source": [
    "import math\n",
    "math.exp"
   ]
  },
  {
   "cell_type": "code",
   "execution_count": 86,
   "metadata": {
    "ExecuteTime": {
     "end_time": "2020-10-01T06:10:03.308473Z",
     "start_time": "2020-10-01T06:10:03.298349Z"
    }
   },
   "outputs": [
    {
     "name": "stdout",
     "output_type": "stream",
     "text": [
      "5\n",
      "2.708333333333333\n"
     ]
    }
   ],
   "source": [
    "# part b\n",
    "s = 0\n",
    "f = 1\n",
    "for i in range(0, int(input())):\n",
    "    if i > 0:\n",
    "        f *= i\n",
    "    s += 1 / f\n",
    "print(s)"
   ]
  },
  {
   "cell_type": "markdown",
   "metadata": {},
   "source": [
    "#### Part c\n",
    "Write a program that computes the value of $e^x$by using the formula:  \n",
    "$$e^x=1+\\frac{x}{1!}+\\frac{x^2}{2!}+\\frac{x^3}{3!}+...$$\n",
    "Prompt the user for the desired accuracy of $e$ (i.e. the number of terms in the summation)  \n",
    "Your program have to reads two nonnegative integer which the first one is number of terms in the summation and the second one is $x$:  \n",
    "Example Input:  \n",
    "<textarea readonly rows=\"2\" cols=\"40\">\n",
    "5\n",
    "5\n",
    "</textarea>  \n",
    "Example Ouput:  \n",
    "<textarea readonly rows=\"2\" cols=\"40\">\n",
    "65.375\n",
    "</textarea>"
   ]
  },
  {
   "cell_type": "code",
   "execution_count": 87,
   "metadata": {
    "ExecuteTime": {
     "end_time": "2020-10-01T06:16:03.778842Z",
     "start_time": "2020-10-01T06:16:03.776095Z"
    }
   },
   "outputs": [
    {
     "name": "stdout",
     "output_type": "stream",
     "text": [
      "5\n",
      "5\n",
      "65.375\n"
     ]
    }
   ],
   "source": [
    "# part c\n",
    "n = int(input())\n",
    "x = int(input())\n",
    "s = 0\n",
    "f = 1\n",
    "for i in range(0, n):\n",
    "    if i > 0:\n",
    "        f *= i\n",
    "    s += (x ** i) / f\n",
    "print(s)"
   ]
  },
  {
   "cell_type": "markdown",
   "metadata": {},
   "source": [
    "### <span style=\"color:red\">Question8</span>  \n",
    "Calculate the value of $\\pi$ from the infinite series:  \n",
    "$$\\pi=4-\\frac{4}{3}+\\frac{4}{5}-\\frac{4}{7}+\\frac{4}{9}-\\frac{4}{11}+...$$\n",
    "Print out the result of the approximate value $\\pi$ after each of the first 1000 terms of this series."
   ]
  },
  {
   "cell_type": "code",
   "execution_count": 88,
   "metadata": {},
   "outputs": [
    {
     "name": "stdout",
     "output_type": "stream",
     "text": [
      "3.140592653839794\n"
     ]
    }
   ],
   "source": [
    "#Question8\n",
    "pi = 0\n",
    "for i in range(0, 1000):\n",
    "    pi += 4 * (-1) ** i / (i * 2 + 1)\n",
    "print(pi)"
   ]
  },
  {
   "cell_type": "markdown",
   "metadata": {},
   "source": [
    "### <span style=\"color:red\">Question9</span>  \n",
    "The factorial function is used frequently in probability problems.  \n",
    "\n",
    "\n",
    "What difficulty might prevent you from calculating the factorial of 20?"
   ]
  },
  {
   "cell_type": "markdown",
   "metadata": {},
   "source": [
    "Using the definition of factorial in Question7, write a program that uses a **`for`** statement to evaluate the factorials of the integers from 1 to 5.  \n",
    "Example Ouput:  \n",
    "<textarea readonly rows=\"6\" cols=\"40\">\n",
    "1\n",
    "2\n",
    "6\n",
    "24\n",
    "120\n",
    "</textarea>"
   ]
  },
  {
   "cell_type": "code",
   "execution_count": 89,
   "metadata": {},
   "outputs": [
    {
     "name": "stdout",
     "output_type": "stream",
     "text": [
      "1\n",
      "2\n",
      "6\n",
      "24\n",
      "120\n"
     ]
    }
   ],
   "source": [
    "# part a\n",
    "f = 1\n",
    "for i in range(1, 6):\n",
    "    f *= i\n",
    "    print(f)"
   ]
  },
  {
   "cell_type": "markdown",
   "metadata": {},
   "source": [
    "### <span style=\"color:red\">Question10</span>  \n",
    "### Polymorphism\n",
    "Following example shows a crucial philosophical difference between Python and statically typed languages like C/C++ and Java.\n",
    "\n",
    "**In Python, your code is not supposed to care about the specific data type**"
   ]
  },
  {
   "cell_type": "code",
   "execution_count": 90,
   "metadata": {
    "ExecuteTime": {
     "end_time": "2021-10-05T05:55:46.984371Z",
     "start_time": "2021-10-05T05:55:46.980275Z"
    }
   },
   "outputs": [],
   "source": [
    "def times(x, y):      # create and assign function\n",
    "    return x * y      # body executed when called "
   ]
  },
  {
   "cell_type": "code",
   "execution_count": 91,
   "metadata": {
    "ExecuteTime": {
     "end_time": "2021-10-05T05:55:47.583394Z",
     "start_time": "2021-10-05T05:55:47.536364Z"
    }
   },
   "outputs": [
    {
     "data": {
      "text/plain": [
       "'NINININI'"
      ]
     },
     "execution_count": 91,
     "metadata": {},
     "output_type": "execute_result"
    }
   ],
   "source": [
    "times('NI', 4)       # Functions are \"Typeless\""
   ]
  },
  {
   "cell_type": "code",
   "execution_count": 92,
   "metadata": {
    "ExecuteTime": {
     "end_time": "2021-10-05T05:56:13.671392Z",
     "start_time": "2021-10-05T05:56:13.388773Z"
    }
   },
   "outputs": [
    {
     "ename": "TypeError",
     "evalue": "can't multiply sequence by non-int of type 'str'",
     "output_type": "error",
     "traceback": [
      "\u001b[1;31m---------------------------------------------------------------------------\u001b[0m",
      "\u001b[1;31mTypeError\u001b[0m                                 Traceback (most recent call last)",
      "\u001b[1;32m~\\AppData\\Local\\Temp/ipykernel_36584/3302191865.py\u001b[0m in \u001b[0;36m<module>\u001b[1;34m\u001b[0m\n\u001b[0;32m      2\u001b[0m \u001b[1;31m# Please run following scripts.\u001b[0m\u001b[1;33m\u001b[0m\u001b[1;33m\u001b[0m\u001b[1;33m\u001b[0m\u001b[0m\n\u001b[0;32m      3\u001b[0m \u001b[1;31m# Answer what kind of error you will get and why you will get this error?\u001b[0m\u001b[1;33m\u001b[0m\u001b[1;33m\u001b[0m\u001b[1;33m\u001b[0m\u001b[0m\n\u001b[1;32m----> 4\u001b[1;33m \u001b[0mtimes\u001b[0m\u001b[1;33m(\u001b[0m\u001b[1;34m'hello '\u001b[0m\u001b[1;33m,\u001b[0m \u001b[1;34m'3'\u001b[0m\u001b[1;33m)\u001b[0m\u001b[1;33m\u001b[0m\u001b[1;33m\u001b[0m\u001b[0m\n\u001b[0m",
      "\u001b[1;32m~\\AppData\\Local\\Temp/ipykernel_36584/1571111296.py\u001b[0m in \u001b[0;36mtimes\u001b[1;34m(x, y)\u001b[0m\n\u001b[0;32m      1\u001b[0m \u001b[1;32mdef\u001b[0m \u001b[0mtimes\u001b[0m\u001b[1;33m(\u001b[0m\u001b[0mx\u001b[0m\u001b[1;33m,\u001b[0m \u001b[0my\u001b[0m\u001b[1;33m)\u001b[0m\u001b[1;33m:\u001b[0m      \u001b[1;31m# create and assign function\u001b[0m\u001b[1;33m\u001b[0m\u001b[1;33m\u001b[0m\u001b[0m\n\u001b[1;32m----> 2\u001b[1;33m     \u001b[1;32mreturn\u001b[0m \u001b[0mx\u001b[0m \u001b[1;33m*\u001b[0m \u001b[0my\u001b[0m      \u001b[1;31m# body executed when called\u001b[0m\u001b[1;33m\u001b[0m\u001b[1;33m\u001b[0m\u001b[0m\n\u001b[0m",
      "\u001b[1;31mTypeError\u001b[0m: can't multiply sequence by non-int of type 'str'"
     ]
    }
   ],
   "source": [
    "# Question10\n",
    "# Please run following scripts.\n",
    "# Answer what kind of error you will get and why you will get this error?\n",
    "times('hello ', '3')"
   ]
  },
  {
   "cell_type": "code",
   "execution_count": 93,
   "metadata": {},
   "outputs": [],
   "source": [
    "# Your answer:\n",
    "# The interpreter will show \"TypeError\" after executing te above code since there is \"no definition of multiplication\" between two string."
   ]
  },
  {
   "cell_type": "markdown",
   "metadata": {},
   "source": [
    "<img src=https://i.imgur.com/xSjv2Vt.jpg width=300px>"
   ]
  }
 ],
 "metadata": {
  "kernelspec": {
   "display_name": "Python 3 (ipykernel)",
   "language": "python",
   "name": "python3"
  },
  "language_info": {
   "codemirror_mode": {
    "name": "ipython",
    "version": 3
   },
   "file_extension": ".py",
   "mimetype": "text/x-python",
   "name": "python",
   "nbconvert_exporter": "python",
   "pygments_lexer": "ipython3",
   "version": "3.8.10"
  },
  "toc": {
   "base_numbering": 1,
   "nav_menu": {},
   "number_sections": true,
   "sideBar": true,
   "skip_h1_title": false,
   "title_cell": "Table of Contents",
   "title_sidebar": "Contents",
   "toc_cell": false,
   "toc_position": {},
   "toc_section_display": true,
   "toc_window_display": false
  },
  "varInspector": {
   "cols": {
    "lenName": 16,
    "lenType": 16,
    "lenVar": 40
   },
   "kernels_config": {
    "python": {
     "delete_cmd_postfix": "",
     "delete_cmd_prefix": "del ",
     "library": "var_list.py",
     "varRefreshCmd": "print(var_dic_list())"
    },
    "r": {
     "delete_cmd_postfix": ") ",
     "delete_cmd_prefix": "rm(",
     "library": "var_list.r",
     "varRefreshCmd": "cat(var_dic_list()) "
    }
   },
   "types_to_exclude": [
    "module",
    "function",
    "builtin_function_or_method",
    "instance",
    "_Feature"
   ],
   "window_display": false
  }
 },
 "nbformat": 4,
 "nbformat_minor": 4
}
