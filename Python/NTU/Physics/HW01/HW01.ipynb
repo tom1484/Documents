{
 "cells": [
  {
   "cell_type": "code",
   "execution_count": 1,
   "id": "0d20b8ad",
   "metadata": {},
   "outputs": [
    {
     "data": {
      "text/html": [
       "<div id=\"glowscript\" class=\"glowscript\"></div>"
      ],
      "text/plain": [
       "<IPython.core.display.HTML object>"
      ]
     },
     "metadata": {},
     "output_type": "display_data"
    },
    {
     "data": {
      "application/javascript": [
       "if (typeof Jupyter !== \"undefined\") { window.__context = { glowscript_container: $(\"#glowscript\").removeAttr(\"id\")};}else{ element.textContent = ' ';}"
      ],
      "text/plain": [
       "<IPython.core.display.Javascript object>"
      ]
     },
     "metadata": {},
     "output_type": "display_data"
    }
   ],
   "source": [
    "from vpython import *"
   ]
  },
  {
   "cell_type": "code",
   "execution_count": 2,
   "id": "688d6785",
   "metadata": {},
   "outputs": [],
   "source": [
    "height = 15.0\n",
    "g = 9.8\n",
    "C = 0.9\n",
    "dt = 0.0001\n",
    "\n",
    "radius = 0.25\n",
    "theta = pi / 4"
   ]
  },
  {
   "cell_type": "code",
   "execution_count": 3,
   "id": "41771c7c",
   "metadata": {
    "scrolled": false
   },
   "outputs": [
    {
     "data": {
      "text/html": [
       "<div id=\"glowscript\" class=\"glowscript\"></div>"
      ],
      "text/plain": [
       "<IPython.core.display.HTML object>"
      ]
     },
     "metadata": {},
     "output_type": "display_data"
    },
    {
     "data": {
      "application/javascript": [
       "if (typeof Jupyter !== \"undefined\") { window.__context = { glowscript_container: $(\"#glowscript\").removeAttr(\"id\")};}else{ element.textContent = ' ';}"
      ],
      "text/plain": [
       "<IPython.core.display.Javascript object>"
      ]
     },
     "metadata": {},
     "output_type": "display_data"
    },
    {
     "data": {
      "application/javascript": [
       "if (typeof Jupyter !== \"undefined\") {require.undef(\"nbextensions/vpython_libraries/glow.min\");}else{element.textContent = ' ';}"
      ],
      "text/plain": [
       "<IPython.core.display.Javascript object>"
      ]
     },
     "metadata": {},
     "output_type": "display_data"
    },
    {
     "data": {
      "application/javascript": [
       "if (typeof Jupyter !== \"undefined\") {require.undef(\"nbextensions/vpython_libraries/glowcomm\");}else{element.textContent = ' ';}"
      ],
      "text/plain": [
       "<IPython.core.display.Javascript object>"
      ]
     },
     "metadata": {},
     "output_type": "display_data"
    },
    {
     "data": {
      "application/javascript": [
       "if (typeof Jupyter !== \"undefined\") {require.undef(\"nbextensions/vpython_libraries/jquery-ui.custom.min\");}else{element.textContent = ' ';}"
      ],
      "text/plain": [
       "<IPython.core.display.Javascript object>"
      ]
     },
     "metadata": {},
     "output_type": "display_data"
    },
    {
     "data": {
      "application/javascript": [
       "if (typeof Jupyter !== \"undefined\") {require([\"nbextensions/vpython_libraries/glow.min\"], function(){console.log(\"GLOW LOADED\");});}else{element.textContent = ' ';}"
      ],
      "text/plain": [
       "<IPython.core.display.Javascript object>"
      ]
     },
     "metadata": {},
     "output_type": "display_data"
    },
    {
     "data": {
      "application/javascript": [
       "if (typeof Jupyter !== \"undefined\") {require([\"nbextensions/vpython_libraries/glowcomm\"], function(){console.log(\"GLOWCOMM LOADED\");});}else{element.textContent = ' ';}"
      ],
      "text/plain": [
       "<IPython.core.display.Javascript object>"
      ]
     },
     "metadata": {},
     "output_type": "display_data"
    },
    {
     "data": {
      "application/javascript": [
       "if (typeof Jupyter !== \"undefined\") {require([\"nbextensions/vpython_libraries/jquery-ui.custom.min\"], function(){console.log(\"JQUERY LOADED\");});}else{element.textContent = ' ';}"
      ],
      "text/plain": [
       "<IPython.core.display.Javascript object>"
      ]
     },
     "metadata": {},
     "output_type": "display_data"
    }
   ],
   "source": [
    "# create basic objects\n",
    "floor = box(length=30, height=0.01, width=10, \n",
    "            color=color.blue)\n",
    "ball = sphere(radius=radius, color=color.red, \n",
    "              make_trail=True, trail_radius=radius / 3)\n",
    "\n",
    "ball.pos = vec(-15, radius, 0)\n",
    "ball.v = vec(20 * cos(theta), 20 * sin(theta), 0)"
   ]
  },
  {
   "cell_type": "code",
   "execution_count": null,
   "id": "02e8eeba",
   "metadata": {},
   "outputs": [],
   "source": [
    "scene = canvas(width=800, height=800, \n",
    "               center=vec(0, height / 2, 0), \n",
    "               background=vec(0.5, 0.5, 0))\n",
    "\n",
    "hits = 0\n",
    "\n",
    "while hits < 3:\n",
    "    rate(10000)\n",
    "\n",
    "    ball.pos += ball.v * dt\n",
    "    ball.v += vec(0, -g, 0) * dt - C * ball.v * dt\n",
    "    \n",
    "    if ball.pos.y < radius and ball.v.y < 0:\n",
    "        hits += 1\n",
    "        ball.v.y *= -1\n",
    "\n",
    "# msg.visible = False\n",
    "# msg = text(text=str(ball.v.y), pos=vec(-10, 10, 0))\n",
    "# print(ball.v.y)"
   ]
  },
  {
   "cell_type": "code",
   "execution_count": null,
   "id": "6fc51d01",
   "metadata": {},
   "outputs": [],
   "source": []
  }
 ],
 "metadata": {
  "kernelspec": {
   "display_name": "Python 3 (ipykernel)",
   "language": "python",
   "name": "python3"
  },
  "language_info": {
   "codemirror_mode": {
    "name": "ipython",
    "version": 3
   },
   "file_extension": ".py",
   "mimetype": "text/x-python",
   "name": "python",
   "nbconvert_exporter": "python",
   "pygments_lexer": "ipython3",
   "version": "3.7.3"
  }
 },
 "nbformat": 4,
 "nbformat_minor": 5
}
